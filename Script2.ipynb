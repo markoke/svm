{
 "cells": [
  {
   "cell_type": "markdown",
   "metadata": {},
   "source": [
    "Load the packages to use in the project\n"
   ]
  },
  {
   "cell_type": "code",
   "execution_count": 2,
   "metadata": {},
   "outputs": [
    {
     "name": "stderr",
     "output_type": "stream",
     "text": [
      "\n",
      "Attaching package: ‘dplyr’\n",
      "\n",
      "The following objects are masked from ‘package:stats’:\n",
      "\n",
      "    filter, lag\n",
      "\n",
      "The following objects are masked from ‘package:base’:\n",
      "\n",
      "    intersect, setdiff, setequal, union\n",
      "\n",
      "Loading required package: lattice\n",
      "Loading required package: ggplot2\n"
     ]
    }
   ],
   "source": [
    "library(dplyr)\n",
    "library(magrittr)\n",
    "library(flipTime) # To install it first install devtools, library(devtools) to load the it. \n",
    "# run install_github(\"Displayr/flipTime\")\n",
    "library(caret)"
   ]
  },
  {
   "cell_type": "markdown",
   "metadata": {},
   "source": [
    "Loading the data"
   ]
  },
  {
   "cell_type": "code",
   "execution_count": 3,
   "metadata": {},
   "outputs": [],
   "source": [
    "phq9_data <- read.csv(\"data/PHQ_9 FORM.csv\")"
   ]
  },
  {
   "cell_type": "markdown",
   "metadata": {},
   "source": [
    "\n",
    "knowning what the data contains"
   ]
  },
  {
   "cell_type": "code",
   "execution_count": 5,
   "metadata": {},
   "outputs": [
    {
     "name": "stdout",
     "output_type": "stream",
     "text": [
      "'data.frame':\t14697 obs. of  15 variables:\n",
      " $ PHQ_9_Administration              : Factor w/ 175 levels \"2017-01-03\",\"2017-01-23\",..: 110 116 114 75 43 114 45 77 116 45 ...\n",
      " $ Received_At                       : Factor w/ 7790 levels \"2018-03-22 18:53:55 +00:00\",..: 1876 82 4462 933 934 1232 2895 2897 2900 2896 ...\n",
      " $ Session_Number                    : Factor w/ 3 levels \"Session 1\",\"Session 12\",..: 2 1 2 3 1 2 1 3 2 1 ...\n",
      " $ Meeting_Day                       : Factor w/ 8 levels \"\",\"Friday\",\"Monday\",..: 6 3 7 7 7 7 6 6 6 6 ...\n",
      " $ No_pleasure_doing_anything        : int  0 0 1 1 2 1 2 1 0 3 ...\n",
      " $ Feeling_sad__depressed_or_hopeless: int  0 0 0 0 1 0 3 0 0 2 ...\n",
      " $ Trouble_sleeping                  : int  0 0 0 1 1 1 2 1 0 2 ...\n",
      " $ Feeling_tired_or_little_energy    : int  1 1 0 1 2 0 1 0 0 2 ...\n",
      " $ Poor_appetite_or_over_eating      : int  1 1 1 1 2 1 2 2 1 1 ...\n",
      " $ self_guilt                        : int  0 1 0 1 1 0 2 0 0 2 ...\n",
      " $ Trouble_concentrating             : int  0 1 1 1 2 0 2 1 1 1 ...\n",
      " $ Moving_or_speaking_slowly         : int  0 2 0 0 1 0 2 0 0 1 ...\n",
      " $ Sucide_Thoughts                   : int  0 1 0 0 0 0 0 0 0 0 ...\n",
      " $ Total_Score                       : int  2 7 3 6 12 3 16 5 2 14 ...\n",
      " $ status                            : Factor w/ 4 levels \"Extremely Difficult\",..: 2 3 2 2 2 2 3 2 2 2 ...\n"
     ]
    }
   ],
   "source": [
    "str(phq9_data)\n"
   ]
  },
  {
   "cell_type": "code",
   "execution_count": 6,
   "metadata": {},
   "outputs": [
    {
     "data": {
      "text/html": [
       "<table>\n",
       "<thead><tr><th scope=col>PHQ_9_Administration</th><th scope=col>Received_At</th><th scope=col>Session_Number</th><th scope=col>Meeting_Day</th><th scope=col>No_pleasure_doing_anything</th><th scope=col>Feeling_sad__depressed_or_hopeless</th><th scope=col>Trouble_sleeping</th><th scope=col>Feeling_tired_or_little_energy</th><th scope=col>Poor_appetite_or_over_eating</th><th scope=col>self_guilt</th><th scope=col>Trouble_concentrating</th><th scope=col>Moving_or_speaking_slowly</th><th scope=col>Sucide_Thoughts</th><th scope=col>Total_Score</th><th scope=col>status</th></tr></thead>\n",
       "<tbody>\n",
       "\t<tr><td>2018-04-12                </td><td>2018-05-02 18:28:42 +00:00</td><td>Session 12                </td><td>Thursday                  </td><td>0                         </td><td>0                         </td><td>0                         </td><td>1                         </td><td>1                         </td><td>0                         </td><td>0                         </td><td>0                         </td><td>0                         </td><td>2                         </td><td>Not Difficult at All      </td></tr>\n",
       "\t<tr><td>2018-04-19                </td><td>2018-04-19 14:06:24 +00:00</td><td>Session 1                 </td><td>Monday                    </td><td>0                         </td><td>0                         </td><td>0                         </td><td>1                         </td><td>1                         </td><td>1                         </td><td>1                         </td><td>2                         </td><td>1                         </td><td>7                         </td><td>Somewhat Difficult        </td></tr>\n",
       "\t<tr><td>2018-04-17                </td><td>2018-05-24 10:26:25 +00:00</td><td>Session 12                </td><td>Tuesday                   </td><td>1                         </td><td>0                         </td><td>0                         </td><td>0                         </td><td>1                         </td><td>0                         </td><td>1                         </td><td>0                         </td><td>0                         </td><td>3                         </td><td>Not Difficult at All      </td></tr>\n",
       "</tbody>\n",
       "</table>\n"
      ],
      "text/latex": [
       "\\begin{tabular}{r|lllllllllllllll}\n",
       " PHQ\\_9\\_Administration & Received\\_At & Session\\_Number & Meeting\\_Day & No\\_pleasure\\_doing\\_anything & Feeling\\_sad\\_\\_depressed\\_or\\_hopeless & Trouble\\_sleeping & Feeling\\_tired\\_or\\_little\\_energy & Poor\\_appetite\\_or\\_over\\_eating & self\\_guilt & Trouble\\_concentrating & Moving\\_or\\_speaking\\_slowly & Sucide\\_Thoughts & Total\\_Score & status\\\\\n",
       "\\hline\n",
       "\t 2018-04-12                 & 2018-05-02 18:28:42 +00:00 & Session 12                 & Thursday                   & 0                          & 0                          & 0                          & 1                          & 1                          & 0                          & 0                          & 0                          & 0                          & 2                          & Not Difficult at All      \\\\\n",
       "\t 2018-04-19                 & 2018-04-19 14:06:24 +00:00 & Session 1                  & Monday                     & 0                          & 0                          & 0                          & 1                          & 1                          & 1                          & 1                          & 2                          & 1                          & 7                          & Somewhat Difficult        \\\\\n",
       "\t 2018-04-17                 & 2018-05-24 10:26:25 +00:00 & Session 12                 & Tuesday                    & 1                          & 0                          & 0                          & 0                          & 1                          & 0                          & 1                          & 0                          & 0                          & 3                          & Not Difficult at All      \\\\\n",
       "\\end{tabular}\n"
      ],
      "text/markdown": [
       "\n",
       "PHQ_9_Administration | Received_At | Session_Number | Meeting_Day | No_pleasure_doing_anything | Feeling_sad__depressed_or_hopeless | Trouble_sleeping | Feeling_tired_or_little_energy | Poor_appetite_or_over_eating | self_guilt | Trouble_concentrating | Moving_or_speaking_slowly | Sucide_Thoughts | Total_Score | status | \n",
       "|---|---|---|\n",
       "| 2018-04-12                 | 2018-05-02 18:28:42 +00:00 | Session 12                 | Thursday                   | 0                          | 0                          | 0                          | 1                          | 1                          | 0                          | 0                          | 0                          | 0                          | 2                          | Not Difficult at All       | \n",
       "| 2018-04-19                 | 2018-04-19 14:06:24 +00:00 | Session 1                  | Monday                     | 0                          | 0                          | 0                          | 1                          | 1                          | 1                          | 1                          | 2                          | 1                          | 7                          | Somewhat Difficult         | \n",
       "| 2018-04-17                 | 2018-05-24 10:26:25 +00:00 | Session 12                 | Tuesday                    | 1                          | 0                          | 0                          | 0                          | 1                          | 0                          | 1                          | 0                          | 0                          | 3                          | Not Difficult at All       | \n",
       "\n",
       "\n"
      ],
      "text/plain": [
       "  PHQ_9_Administration Received_At                Session_Number Meeting_Day\n",
       "1 2018-04-12           2018-05-02 18:28:42 +00:00 Session 12     Thursday   \n",
       "2 2018-04-19           2018-04-19 14:06:24 +00:00 Session 1      Monday     \n",
       "3 2018-04-17           2018-05-24 10:26:25 +00:00 Session 12     Tuesday    \n",
       "  No_pleasure_doing_anything Feeling_sad__depressed_or_hopeless\n",
       "1 0                          0                                 \n",
       "2 0                          0                                 \n",
       "3 1                          0                                 \n",
       "  Trouble_sleeping Feeling_tired_or_little_energy Poor_appetite_or_over_eating\n",
       "1 0                1                              1                           \n",
       "2 0                1                              1                           \n",
       "3 0                0                              1                           \n",
       "  self_guilt Trouble_concentrating Moving_or_speaking_slowly Sucide_Thoughts\n",
       "1 0          0                     0                         0              \n",
       "2 1          1                     2                         1              \n",
       "3 0          1                     0                         0              \n",
       "  Total_Score status              \n",
       "1 2           Not Difficult at All\n",
       "2 7           Somewhat Difficult  \n",
       "3 3           Not Difficult at All"
      ]
     },
     "metadata": {},
     "output_type": "display_data"
    }
   ],
   "source": [
    "\n",
    "head(phq9_data, 3)\n"
   ]
  },
  {
   "cell_type": "code",
   "execution_count": 7,
   "metadata": {},
   "outputs": [
    {
     "data": {
      "text/html": [
       "<table>\n",
       "<thead><tr><th></th><th scope=col>PHQ_9_Administration</th><th scope=col>Received_At</th><th scope=col>Session_Number</th><th scope=col>Meeting_Day</th><th scope=col>No_pleasure_doing_anything</th><th scope=col>Feeling_sad__depressed_or_hopeless</th><th scope=col>Trouble_sleeping</th><th scope=col>Feeling_tired_or_little_energy</th><th scope=col>Poor_appetite_or_over_eating</th><th scope=col>self_guilt</th><th scope=col>Trouble_concentrating</th><th scope=col>Moving_or_speaking_slowly</th><th scope=col>Sucide_Thoughts</th><th scope=col>Total_Score</th><th scope=col>status</th></tr></thead>\n",
       "<tbody>\n",
       "\t<tr><th scope=row>14695</th><td>2018-01-23                </td><td>2018-05-25 10:40:29 +00:00</td><td>Session 1                 </td><td>Tuesday                   </td><td>1                         </td><td>2                         </td><td>2                         </td><td>2                         </td><td>1                         </td><td>1                         </td><td>1                         </td><td>1                         </td><td>1                         </td><td>12                        </td><td>Somewhat Difficult        </td></tr>\n",
       "\t<tr><th scope=row>14696</th><td>2018-01-23                </td><td>2018-05-25 10:40:54 +00:00</td><td>Session 1                 </td><td>Tuesday                   </td><td>1                         </td><td>2                         </td><td>1                         </td><td>2                         </td><td>1                         </td><td>2                         </td><td>1                         </td><td>2                         </td><td>1                         </td><td>13                        </td><td>Somewhat Difficult        </td></tr>\n",
       "\t<tr><th scope=row>14697</th><td>2018-01-31                </td><td>2018-06-01 06:04:34 +00:00</td><td>Session 1                 </td><td>Wednesday                 </td><td>2                         </td><td>2                         </td><td>1                         </td><td>1                         </td><td>1                         </td><td>1                         </td><td>1                         </td><td>2                         </td><td>0                         </td><td>11                        </td><td>Not Difficult at All      </td></tr>\n",
       "</tbody>\n",
       "</table>\n"
      ],
      "text/latex": [
       "\\begin{tabular}{r|lllllllllllllll}\n",
       "  & PHQ\\_9\\_Administration & Received\\_At & Session\\_Number & Meeting\\_Day & No\\_pleasure\\_doing\\_anything & Feeling\\_sad\\_\\_depressed\\_or\\_hopeless & Trouble\\_sleeping & Feeling\\_tired\\_or\\_little\\_energy & Poor\\_appetite\\_or\\_over\\_eating & self\\_guilt & Trouble\\_concentrating & Moving\\_or\\_speaking\\_slowly & Sucide\\_Thoughts & Total\\_Score & status\\\\\n",
       "\\hline\n",
       "\t14695 & 2018-01-23                 & 2018-05-25 10:40:29 +00:00 & Session 1                  & Tuesday                    & 1                          & 2                          & 2                          & 2                          & 1                          & 1                          & 1                          & 1                          & 1                          & 12                         & Somewhat Difficult        \\\\\n",
       "\t14696 & 2018-01-23                 & 2018-05-25 10:40:54 +00:00 & Session 1                  & Tuesday                    & 1                          & 2                          & 1                          & 2                          & 1                          & 2                          & 1                          & 2                          & 1                          & 13                         & Somewhat Difficult        \\\\\n",
       "\t14697 & 2018-01-31                 & 2018-06-01 06:04:34 +00:00 & Session 1                  & Wednesday                  & 2                          & 2                          & 1                          & 1                          & 1                          & 1                          & 1                          & 2                          & 0                          & 11                         & Not Difficult at All      \\\\\n",
       "\\end{tabular}\n"
      ],
      "text/markdown": [
       "\n",
       "| <!--/--> | PHQ_9_Administration | Received_At | Session_Number | Meeting_Day | No_pleasure_doing_anything | Feeling_sad__depressed_or_hopeless | Trouble_sleeping | Feeling_tired_or_little_energy | Poor_appetite_or_over_eating | self_guilt | Trouble_concentrating | Moving_or_speaking_slowly | Sucide_Thoughts | Total_Score | status | \n",
       "|---|---|---|\n",
       "| 14695 | 2018-01-23                 | 2018-05-25 10:40:29 +00:00 | Session 1                  | Tuesday                    | 1                          | 2                          | 2                          | 2                          | 1                          | 1                          | 1                          | 1                          | 1                          | 12                         | Somewhat Difficult         | \n",
       "| 14696 | 2018-01-23                 | 2018-05-25 10:40:54 +00:00 | Session 1                  | Tuesday                    | 1                          | 2                          | 1                          | 2                          | 1                          | 2                          | 1                          | 2                          | 1                          | 13                         | Somewhat Difficult         | \n",
       "| 14697 | 2018-01-31                 | 2018-06-01 06:04:34 +00:00 | Session 1                  | Wednesday                  | 2                          | 2                          | 1                          | 1                          | 1                          | 1                          | 1                          | 2                          | 0                          | 11                         | Not Difficult at All       | \n",
       "\n",
       "\n"
      ],
      "text/plain": [
       "      PHQ_9_Administration Received_At                Session_Number\n",
       "14695 2018-01-23           2018-05-25 10:40:29 +00:00 Session 1     \n",
       "14696 2018-01-23           2018-05-25 10:40:54 +00:00 Session 1     \n",
       "14697 2018-01-31           2018-06-01 06:04:34 +00:00 Session 1     \n",
       "      Meeting_Day No_pleasure_doing_anything Feeling_sad__depressed_or_hopeless\n",
       "14695 Tuesday     1                          2                                 \n",
       "14696 Tuesday     1                          2                                 \n",
       "14697 Wednesday   2                          2                                 \n",
       "      Trouble_sleeping Feeling_tired_or_little_energy\n",
       "14695 2                2                             \n",
       "14696 1                2                             \n",
       "14697 1                1                             \n",
       "      Poor_appetite_or_over_eating self_guilt Trouble_concentrating\n",
       "14695 1                            1          1                    \n",
       "14696 1                            2          1                    \n",
       "14697 1                            1          1                    \n",
       "      Moving_or_speaking_slowly Sucide_Thoughts Total_Score\n",
       "14695 1                         1               12         \n",
       "14696 2                         1               13         \n",
       "14697 2                         0               11         \n",
       "      status              \n",
       "14695 Somewhat Difficult  \n",
       "14696 Somewhat Difficult  \n",
       "14697 Not Difficult at All"
      ]
     },
     "metadata": {},
     "output_type": "display_data"
    }
   ],
   "source": [
    "\n",
    "tail(phq9_data, 3)"
   ]
  },
  {
   "cell_type": "markdown",
   "metadata": {},
   "source": [
    "First lets remove the timestamp from the date in Recieved_At column since the PHQ Administration column doesnot have it.\n",
    "Removing time zone using grab sub string method, we had no better way of doing it\n"
   ]
  },
  {
   "cell_type": "code",
   "execution_count": 4,
   "metadata": {},
   "outputs": [],
   "source": [
    "phq9_data$Received_At <- gsub(x=phq9_data$Received_At,pattern=\" +00:00\",\n",
    "                              replacement=\"\",fixed=T)"
   ]
  },
  {
   "cell_type": "markdown",
   "metadata": {},
   "source": [
    "Lets first convert our two dates columns to Date since they are factors as seen from str() above\n"
   ]
  },
  {
   "cell_type": "code",
   "execution_count": 5,
   "metadata": {},
   "outputs": [],
   "source": [
    "phq9_data$Received_At <-AsDateTime(phq9_data$Received_At) # using the flipTime package\n",
    "phq9_data$PHQ_9_Administration <-AsDateTime(phq9_data$PHQ_9_Administration)"
   ]
  },
  {
   "cell_type": "markdown",
   "metadata": {},
   "source": [
    "Since all our time formats are in POSIXct, lets use as.Date trick to get only date for Recieved at and transform PHQ_Administration to Date\n"
   ]
  },
  {
   "cell_type": "code",
   "execution_count": 6,
   "metadata": {},
   "outputs": [],
   "source": [
    "phq9_data$Received_At <-as.Date(phq9_data$Received_At)\n",
    "phq9_data$PHQ_9_Administration <-as.Date(phq9_data$PHQ_9_Administration)"
   ]
  },
  {
   "cell_type": "markdown",
   "metadata": {},
   "source": [
    "IF we just tranformed it directly minus transforming date(factor) to POSIXct it would return NA\n",
    "\n",
    "Getting days between PHQ_Administration and Recieved_at"
   ]
  },
  {
   "cell_type": "code",
   "execution_count": 7,
   "metadata": {},
   "outputs": [
    {
     "data": {
      "text/html": [
       "<table>\n",
       "<thead><tr><th scope=col>PHQ_9_Administration</th><th scope=col>Received_At</th><th scope=col>Session_Number</th><th scope=col>Meeting_Day</th><th scope=col>No_pleasure_doing_anything</th><th scope=col>Feeling_sad__depressed_or_hopeless</th><th scope=col>Trouble_sleeping</th><th scope=col>Feeling_tired_or_little_energy</th><th scope=col>Poor_appetite_or_over_eating</th><th scope=col>self_guilt</th><th scope=col>Trouble_concentrating</th><th scope=col>Moving_or_speaking_slowly</th><th scope=col>Sucide_Thoughts</th><th scope=col>Total_Score</th><th scope=col>status</th><th scope=col>days_in_between</th></tr></thead>\n",
       "<tbody>\n",
       "\t<tr><td>2018-04-12          </td><td>2018-05-02          </td><td>Session 12          </td><td>Thursday            </td><td>0                   </td><td>0                   </td><td>0                   </td><td>1                   </td><td>1                   </td><td>0                   </td><td>0                   </td><td>0                   </td><td>0                   </td><td>2                   </td><td>Not Difficult at All</td><td>20 days             </td></tr>\n",
       "\t<tr><td>2018-04-19          </td><td>2018-04-19          </td><td>Session 1           </td><td>Monday              </td><td>0                   </td><td>0                   </td><td>0                   </td><td>1                   </td><td>1                   </td><td>1                   </td><td>1                   </td><td>2                   </td><td>1                   </td><td>7                   </td><td>Somewhat Difficult  </td><td> 0 days             </td></tr>\n",
       "\t<tr><td>2018-04-17          </td><td>2018-05-24          </td><td>Session 12          </td><td>Tuesday             </td><td>1                   </td><td>0                   </td><td>0                   </td><td>0                   </td><td>1                   </td><td>0                   </td><td>1                   </td><td>0                   </td><td>0                   </td><td>3                   </td><td>Not Difficult at All</td><td>37 days             </td></tr>\n",
       "</tbody>\n",
       "</table>\n"
      ],
      "text/latex": [
       "\\begin{tabular}{r|llllllllllllllll}\n",
       " PHQ\\_9\\_Administration & Received\\_At & Session\\_Number & Meeting\\_Day & No\\_pleasure\\_doing\\_anything & Feeling\\_sad\\_\\_depressed\\_or\\_hopeless & Trouble\\_sleeping & Feeling\\_tired\\_or\\_little\\_energy & Poor\\_appetite\\_or\\_over\\_eating & self\\_guilt & Trouble\\_concentrating & Moving\\_or\\_speaking\\_slowly & Sucide\\_Thoughts & Total\\_Score & status & days\\_in\\_between\\\\\n",
       "\\hline\n",
       "\t 2018-04-12           & 2018-05-02           & Session 12           & Thursday             & 0                    & 0                    & 0                    & 1                    & 1                    & 0                    & 0                    & 0                    & 0                    & 2                    & Not Difficult at All & 20 days             \\\\\n",
       "\t 2018-04-19           & 2018-04-19           & Session 1            & Monday               & 0                    & 0                    & 0                    & 1                    & 1                    & 1                    & 1                    & 2                    & 1                    & 7                    & Somewhat Difficult   &  0 days             \\\\\n",
       "\t 2018-04-17           & 2018-05-24           & Session 12           & Tuesday              & 1                    & 0                    & 0                    & 0                    & 1                    & 0                    & 1                    & 0                    & 0                    & 3                    & Not Difficult at All & 37 days             \\\\\n",
       "\\end{tabular}\n"
      ],
      "text/markdown": [
       "\n",
       "PHQ_9_Administration | Received_At | Session_Number | Meeting_Day | No_pleasure_doing_anything | Feeling_sad__depressed_or_hopeless | Trouble_sleeping | Feeling_tired_or_little_energy | Poor_appetite_or_over_eating | self_guilt | Trouble_concentrating | Moving_or_speaking_slowly | Sucide_Thoughts | Total_Score | status | days_in_between | \n",
       "|---|---|---|\n",
       "| 2018-04-12           | 2018-05-02           | Session 12           | Thursday             | 0                    | 0                    | 0                    | 1                    | 1                    | 0                    | 0                    | 0                    | 0                    | 2                    | Not Difficult at All | 20 days              | \n",
       "| 2018-04-19           | 2018-04-19           | Session 1            | Monday               | 0                    | 0                    | 0                    | 1                    | 1                    | 1                    | 1                    | 2                    | 1                    | 7                    | Somewhat Difficult   |  0 days              | \n",
       "| 2018-04-17           | 2018-05-24           | Session 12           | Tuesday              | 1                    | 0                    | 0                    | 0                    | 1                    | 0                    | 1                    | 0                    | 0                    | 3                    | Not Difficult at All | 37 days              | \n",
       "\n",
       "\n"
      ],
      "text/plain": [
       "  PHQ_9_Administration Received_At Session_Number Meeting_Day\n",
       "1 2018-04-12           2018-05-02  Session 12     Thursday   \n",
       "2 2018-04-19           2018-04-19  Session 1      Monday     \n",
       "3 2018-04-17           2018-05-24  Session 12     Tuesday    \n",
       "  No_pleasure_doing_anything Feeling_sad__depressed_or_hopeless\n",
       "1 0                          0                                 \n",
       "2 0                          0                                 \n",
       "3 1                          0                                 \n",
       "  Trouble_sleeping Feeling_tired_or_little_energy Poor_appetite_or_over_eating\n",
       "1 0                1                              1                           \n",
       "2 0                1                              1                           \n",
       "3 0                0                              1                           \n",
       "  self_guilt Trouble_concentrating Moving_or_speaking_slowly Sucide_Thoughts\n",
       "1 0          0                     0                         0              \n",
       "2 1          1                     2                         1              \n",
       "3 0          1                     0                         0              \n",
       "  Total_Score status               days_in_between\n",
       "1 2           Not Difficult at All 20 days        \n",
       "2 7           Somewhat Difficult    0 days        \n",
       "3 3           Not Difficult at All 37 days        "
      ]
     },
     "metadata": {},
     "output_type": "display_data"
    }
   ],
   "source": [
    "phq9_data$days_in_between <- phq9_data$Received_At- phq9_data$PHQ_9_Administration\n",
    "head(phq9_data, 3)"
   ]
  },
  {
   "cell_type": "markdown",
   "metadata": {},
   "source": [
    "We nolonger need the Received_At and PHQ_9_Administration columns."
   ]
  },
  {
   "cell_type": "code",
   "execution_count": 8,
   "metadata": {},
   "outputs": [
    {
     "data": {
      "text/html": [
       "<table>\n",
       "<thead><tr><th scope=col>Session_Number</th><th scope=col>Meeting_Day</th><th scope=col>No_pleasure_doing_anything</th><th scope=col>Feeling_sad__depressed_or_hopeless</th><th scope=col>Trouble_sleeping</th><th scope=col>Feeling_tired_or_little_energy</th><th scope=col>Poor_appetite_or_over_eating</th><th scope=col>self_guilt</th><th scope=col>Trouble_concentrating</th><th scope=col>Moving_or_speaking_slowly</th><th scope=col>Sucide_Thoughts</th><th scope=col>Total_Score</th><th scope=col>status</th><th scope=col>days_in_between</th></tr></thead>\n",
       "<tbody>\n",
       "\t<tr><td>Session 12          </td><td>Thursday            </td><td>0                   </td><td>0                   </td><td>0                   </td><td>1                   </td><td>1                   </td><td>0                   </td><td>0                   </td><td>0                   </td><td>0                   </td><td>2                   </td><td>Not Difficult at All</td><td>20 days             </td></tr>\n",
       "\t<tr><td>Session 1           </td><td>Monday              </td><td>0                   </td><td>0                   </td><td>0                   </td><td>1                   </td><td>1                   </td><td>1                   </td><td>1                   </td><td>2                   </td><td>1                   </td><td>7                   </td><td>Somewhat Difficult  </td><td> 0 days             </td></tr>\n",
       "\t<tr><td>Session 12          </td><td>Tuesday             </td><td>1                   </td><td>0                   </td><td>0                   </td><td>0                   </td><td>1                   </td><td>0                   </td><td>1                   </td><td>0                   </td><td>0                   </td><td>3                   </td><td>Not Difficult at All</td><td>37 days             </td></tr>\n",
       "</tbody>\n",
       "</table>\n"
      ],
      "text/latex": [
       "\\begin{tabular}{r|llllllllllllll}\n",
       " Session\\_Number & Meeting\\_Day & No\\_pleasure\\_doing\\_anything & Feeling\\_sad\\_\\_depressed\\_or\\_hopeless & Trouble\\_sleeping & Feeling\\_tired\\_or\\_little\\_energy & Poor\\_appetite\\_or\\_over\\_eating & self\\_guilt & Trouble\\_concentrating & Moving\\_or\\_speaking\\_slowly & Sucide\\_Thoughts & Total\\_Score & status & days\\_in\\_between\\\\\n",
       "\\hline\n",
       "\t Session 12           & Thursday             & 0                    & 0                    & 0                    & 1                    & 1                    & 0                    & 0                    & 0                    & 0                    & 2                    & Not Difficult at All & 20 days             \\\\\n",
       "\t Session 1            & Monday               & 0                    & 0                    & 0                    & 1                    & 1                    & 1                    & 1                    & 2                    & 1                    & 7                    & Somewhat Difficult   &  0 days             \\\\\n",
       "\t Session 12           & Tuesday              & 1                    & 0                    & 0                    & 0                    & 1                    & 0                    & 1                    & 0                    & 0                    & 3                    & Not Difficult at All & 37 days             \\\\\n",
       "\\end{tabular}\n"
      ],
      "text/markdown": [
       "\n",
       "Session_Number | Meeting_Day | No_pleasure_doing_anything | Feeling_sad__depressed_or_hopeless | Trouble_sleeping | Feeling_tired_or_little_energy | Poor_appetite_or_over_eating | self_guilt | Trouble_concentrating | Moving_or_speaking_slowly | Sucide_Thoughts | Total_Score | status | days_in_between | \n",
       "|---|---|---|\n",
       "| Session 12           | Thursday             | 0                    | 0                    | 0                    | 1                    | 1                    | 0                    | 0                    | 0                    | 0                    | 2                    | Not Difficult at All | 20 days              | \n",
       "| Session 1            | Monday               | 0                    | 0                    | 0                    | 1                    | 1                    | 1                    | 1                    | 2                    | 1                    | 7                    | Somewhat Difficult   |  0 days              | \n",
       "| Session 12           | Tuesday              | 1                    | 0                    | 0                    | 0                    | 1                    | 0                    | 1                    | 0                    | 0                    | 3                    | Not Difficult at All | 37 days              | \n",
       "\n",
       "\n"
      ],
      "text/plain": [
       "  Session_Number Meeting_Day No_pleasure_doing_anything\n",
       "1 Session 12     Thursday    0                         \n",
       "2 Session 1      Monday      0                         \n",
       "3 Session 12     Tuesday     1                         \n",
       "  Feeling_sad__depressed_or_hopeless Trouble_sleeping\n",
       "1 0                                  0               \n",
       "2 0                                  0               \n",
       "3 0                                  0               \n",
       "  Feeling_tired_or_little_energy Poor_appetite_or_over_eating self_guilt\n",
       "1 1                              1                            0         \n",
       "2 1                              1                            1         \n",
       "3 0                              1                            0         \n",
       "  Trouble_concentrating Moving_or_speaking_slowly Sucide_Thoughts Total_Score\n",
       "1 0                     0                         0               2          \n",
       "2 1                     2                         1               7          \n",
       "3 1                     0                         0               3          \n",
       "  status               days_in_between\n",
       "1 Not Difficult at All 20 days        \n",
       "2 Somewhat Difficult    0 days        \n",
       "3 Not Difficult at All 37 days        "
      ]
     },
     "metadata": {},
     "output_type": "display_data"
    }
   ],
   "source": [
    "phq9_data <- phq9_data[,3:16]\n",
    "head(phq9_data,3)"
   ]
  },
  {
   "cell_type": "markdown",
   "metadata": {},
   "source": [
    "changing status column as character not factor so that its easy for us to play with it."
   ]
  },
  {
   "cell_type": "code",
   "execution_count": 9,
   "metadata": {},
   "outputs": [],
   "source": [
    "phq9_data$status <- as.character(phq9_data$status)\n"
   ]
  },
  {
   "cell_type": "markdown",
   "metadata": {},
   "source": [
    "so since classification takes two factors lets transform status into two levels, 1 - difficuilt(extremely difficult and very difficult), 0 - (somewhat difficult and Not difficult at all)"
   ]
  },
  {
   "cell_type": "code",
   "execution_count": 10,
   "metadata": {},
   "outputs": [],
   "source": [
    "phq9_data$status <- sub(\"Somewhat Difficult\",\"Not Difficult at All\",phq9_data[,13])\n",
    "phq9_data$status <- sub(\"Very Difficult\",\"Extremely Difficult\",phq9_data[,13])\n"
   ]
  },
  {
   "cell_type": "markdown",
   "metadata": {},
   "source": [
    "We tried it with a for loop but it took us 7.26 - 8 mins to finish running"
   ]
  },
  {
   "cell_type": "markdown",
   "metadata": {},
   "source": [
    "we take back the status column to factors"
   ]
  },
  {
   "cell_type": "code",
   "execution_count": 11,
   "metadata": {},
   "outputs": [
    {
     "name": "stdout",
     "output_type": "stream",
     "text": [
      " Factor w/ 2 levels \"Extremely Difficult\",..: 2 2 2 2 2 2 2 2 2 2 ...\n"
     ]
    }
   ],
   "source": [
    "phq9_data$status <- as.factor(phq9_data$status)\n",
    "\n",
    "str(phq9_data$status)"
   ]
  },
  {
   "cell_type": "markdown",
   "metadata": {},
   "source": [
    "Ready to start with svm\n",
    "\n",
    "\n",
    "Many books, tutorials and lectures use the following approach:\n",
    "\n",
    "1. Transform data to the format of an SVM package\n",
    "2. Randomly try a few kernels and parameters\n",
    "3. Test\n",
    "\n",
    "lets see that!\n"
   ]
  },
  {
   "cell_type": "markdown",
   "metadata": {},
   "source": [
    "Dividing our data into train and test set."
   ]
  },
  {
   "cell_type": "code",
   "execution_count": 12,
   "metadata": {},
   "outputs": [
    {
     "data": {
      "text/html": [
       "<ol class=list-inline>\n",
       "\t<li>11758</li>\n",
       "\t<li>14</li>\n",
       "</ol>\n"
      ],
      "text/latex": [
       "\\begin{enumerate*}\n",
       "\\item 11758\n",
       "\\item 14\n",
       "\\end{enumerate*}\n"
      ],
      "text/markdown": [
       "1. 11758\n",
       "2. 14\n",
       "\n",
       "\n"
      ],
      "text/plain": [
       "[1] 11758    14"
      ]
     },
     "metadata": {},
     "output_type": "display_data"
    },
    {
     "data": {
      "text/html": [
       "<ol class=list-inline>\n",
       "\t<li>2939</li>\n",
       "\t<li>14</li>\n",
       "</ol>\n"
      ],
      "text/latex": [
       "\\begin{enumerate*}\n",
       "\\item 2939\n",
       "\\item 14\n",
       "\\end{enumerate*}\n"
      ],
      "text/markdown": [
       "1. 2939\n",
       "2. 14\n",
       "\n",
       "\n"
      ],
      "text/plain": [
       "[1] 2939   14"
      ]
     },
     "metadata": {},
     "output_type": "display_data"
    }
   ],
   "source": [
    "set.seed(2292018) # Random splitting of data, the set.seed is for all of us in different machines to get the same values as train and test set.\n",
    "Train <-createDataPartition(phq9_data$status, p =0.8, list = FALSE)\n",
    "\n",
    "trainset <-phq9_data[Train,]\n",
    "testset <-phq9_data[-Train,]\n",
    "\n",
    "dim(trainset)\n",
    "dim(testset)"
   ]
  },
  {
   "cell_type": "markdown",
   "metadata": {},
   "source": [
    "Fitting the model using a linear kernal"
   ]
  },
  {
   "cell_type": "code",
   "execution_count": 17,
   "metadata": {},
   "outputs": [
    {
     "data": {
      "text/plain": [
       "Support Vector Machines with Linear Kernel \n",
       "\n",
       "14697 samples\n",
       "   13 predictor\n",
       "    2 classes: 'Extremely Difficult', 'Not Difficult at All' \n",
       "\n",
       "No pre-processing\n",
       "Resampling: Cross-Validated (4 fold, repeated 2 times) \n",
       "Summary of sample sizes: 11022, 11023, 11024, 11022, 11023, 11023, ... \n",
       "Resampling results:\n",
       "\n",
       "  Accuracy  Kappa    \n",
       "  0.829387  0.4931397\n",
       "\n",
       "Tuning parameter 'C' was held constant at a value of 1"
      ]
     },
     "metadata": {},
     "output_type": "display_data"
    }
   ],
   "source": [
    "control_trn1 <- trainControl(method = \"repeatedcv\", number = 4, repeats = 2)\n",
    "set.seed(2018)\n",
    " \n",
    "Linear_svm <- train(status ~., data = phq9_data, method = \"svmLinear\",\n",
    "                 trControl= control_trn1\n",
    "                 )\n",
    "Linear_svm\n"
   ]
  },
  {
   "cell_type": "markdown",
   "metadata": {},
   "source": [
    "Methos for resampling include: Bootstrap, k-fold Cross Validation, Repeated k-fold Cross Validation, and Leave One Out Cross Validation"
   ]
  },
  {
   "cell_type": "code",
   "execution_count": null,
   "metadata": {},
   "outputs": [],
   "source": []
  },
  {
   "cell_type": "code",
   "execution_count": 18,
   "metadata": {},
   "outputs": [
    {
     "data": {
      "text/plain": [
       "Confusion Matrix and Statistics\n",
       "\n",
       "                      Reference\n",
       "Prediction             Extremely Difficult Not Difficult at All\n",
       "  Extremely Difficult                  374                  197\n",
       "  Not Difficult at All                 316                 2052\n",
       "                                             \n",
       "               Accuracy : 0.8255             \n",
       "                 95% CI : (0.8112, 0.839)    \n",
       "    No Information Rate : 0.7652             \n",
       "    P-Value [Acc > NIR] : 1.024e-15          \n",
       "                                             \n",
       "                  Kappa : 0.4833             \n",
       " Mcnemar's Test P-Value : 1.890e-07          \n",
       "                                             \n",
       "            Sensitivity : 0.5420             \n",
       "            Specificity : 0.9124             \n",
       "         Pos Pred Value : 0.6550             \n",
       "         Neg Pred Value : 0.8666             \n",
       "             Prevalence : 0.2348             \n",
       "         Detection Rate : 0.1273             \n",
       "   Detection Prevalence : 0.1943             \n",
       "      Balanced Accuracy : 0.7272             \n",
       "                                             \n",
       "       'Positive' Class : Extremely Difficult\n",
       "                                             "
      ]
     },
     "metadata": {},
     "output_type": "display_data"
    }
   ],
   "source": [
    "# Making prediction and evaluating our model\n",
    "\n",
    "predictions = predict(Linear_svm, newdata = testset)\n",
    "\n",
    "cm = confusionMatrix(predictions, testset$status)\n",
    "cm"
   ]
  },
  {
   "cell_type": "markdown",
   "metadata": {},
   "source": [
    "Lets try another kernal function"
   ]
  },
  {
   "cell_type": "code",
   "execution_count": 19,
   "metadata": {},
   "outputs": [
    {
     "data": {
      "text/plain": [
       "Support Vector Machines with Radial Basis Function Kernel \n",
       "\n",
       "14697 samples\n",
       "   13 predictor\n",
       "    2 classes: 'Extremely Difficult', 'Not Difficult at All' \n",
       "\n",
       "No pre-processing\n",
       "Resampling: Cross-Validated (4 fold, repeated 2 times) \n",
       "Summary of sample sizes: 11023, 11023, 11022, 11023, 11023, 11022, ... \n",
       "Resampling results across tuning parameters:\n",
       "\n",
       "  C     Accuracy   Kappa    \n",
       "  0.25  0.8301356  0.4879189\n",
       "  0.50  0.8322788  0.4975750\n",
       "  1.00  0.8329932  0.5016253\n",
       "\n",
       "Tuning parameter 'sigma' was held constant at a value of 0.04353732\n",
       "Accuracy was used to select the optimal model using the largest value.\n",
       "The final values used for the model were sigma = 0.04353732 and C = 1."
      ]
     },
     "metadata": {},
     "output_type": "display_data"
    }
   ],
   "source": [
    "control_trn2 <- trainControl(method = \"repeatedcv\", number = 4, repeats = 2)\n",
    "set.seed(2019)\n",
    " \n",
    "Radial_svm <- train(status ~., data = phq9_data, method = \"svmRadial\",\n",
    "                 trControl= control_trn2\n",
    "                 )\n",
    "Radial_svm\n"
   ]
  },
  {
   "cell_type": "markdown",
   "metadata": {},
   "source": [
    "Predictions"
   ]
  },
  {
   "cell_type": "code",
   "execution_count": 20,
   "metadata": {},
   "outputs": [
    {
     "data": {
      "text/plain": [
       "Confusion Matrix and Statistics\n",
       "\n",
       "                      Reference\n",
       "Prediction             Extremely Difficult Not Difficult at All\n",
       "  Extremely Difficult                  396                  163\n",
       "  Not Difficult at All                 294                 2086\n",
       "                                             \n",
       "               Accuracy : 0.8445             \n",
       "                 95% CI : (0.8309, 0.8574)   \n",
       "    No Information Rate : 0.7652             \n",
       "    P-Value [Acc > NIR] : < 2.2e-16          \n",
       "                                             \n",
       "                  Kappa : 0.5368             \n",
       " Mcnemar's Test P-Value : 1.193e-09          \n",
       "                                             \n",
       "            Sensitivity : 0.5739             \n",
       "            Specificity : 0.9275             \n",
       "         Pos Pred Value : 0.7084             \n",
       "         Neg Pred Value : 0.8765             \n",
       "             Prevalence : 0.2348             \n",
       "         Detection Rate : 0.1347             \n",
       "   Detection Prevalence : 0.1902             \n",
       "      Balanced Accuracy : 0.7507             \n",
       "                                             \n",
       "       'Positive' Class : Extremely Difficult\n",
       "                                             "
      ]
     },
     "metadata": {},
     "output_type": "display_data"
    }
   ],
   "source": [
    "# Making prediction and evaluating our model\n",
    "\n",
    "predictions = predict(Radial_svm, newdata = testset)\n",
    "\n",
    "cm = confusionMatrix(predictions, testset$status)\n",
    "cm\n"
   ]
  },
  {
   "cell_type": "markdown",
   "metadata": {},
   "source": [
    "\n",
    "Useful link for different kernal to try\n",
    "\n",
    "[Link](https://rdrr.io/cran/caret/man/models.html)\n",
    "\n",
    "\n",
    "The above approach is what many people use but it is not appropriate. this is the best proposed way to handle classification tasks using svm, it works well if reasonsable accuracy is your concern.\n",
    "\n",
    "1. Transform data to the format of an SVM package\n",
    "2. Conduct feature selection\n",
    "3. perform feature scaling\n",
    "4. Consider the RBF kernel K(x, y) = e −γkx−yk\n",
    "5. Use cross-validation to find the best parameter C and γ\n",
    "6. Use the best parameter C and γ to train the whole training set \n",
    "\n",
    "\n",
    "Lets see that in action!\n",
    "\n",
    "First we have already tranformed the data to an SVM package format\n",
    "\n",
    "Feature selection - to keep it short we shall leave it out, backward elimination would be better.\n",
    "\n"
   ]
  },
  {
   "cell_type": "code",
   "execution_count": 21,
   "metadata": {},
   "outputs": [
    {
     "data": {
      "text/plain": [
       "Support Vector Machines with Radial Basis Function Kernel \n",
       "\n",
       "14697 samples\n",
       "   13 predictor\n",
       "    2 classes: 'Extremely Difficult', 'Not Difficult at All' \n",
       "\n",
       "Pre-processing: centered (20), scaled (20) \n",
       "Resampling: Cross-Validated (4 fold, repeated 2 times) \n",
       "Summary of sample sizes: 11022, 11022, 11023, 11024, 11022, 11023, ... \n",
       "Resampling results across tuning parameters:\n",
       "\n",
       "  C     Accuracy   Kappa    \n",
       "  0.25  0.8299996  0.4882029\n",
       "  0.50  0.8323811  0.4992513\n",
       "  1.00  0.8342861  0.5064041\n",
       "  2.00  0.8346605  0.5085457\n",
       "  4.00  0.8352391  0.5104324\n",
       "\n",
       "Tuning parameter 'sigma' was held constant at a value of 0.04376664\n",
       "Accuracy was used to select the optimal model using the largest value.\n",
       "The final values used for the model were sigma = 0.04376664 and C = 4."
      ]
     },
     "metadata": {},
     "output_type": "display_data"
    }
   ],
   "source": [
    "control_trn3 <- trainControl(method = \"repeatedcv\", number = 4, repeats = 2)\n",
    "set.seed(2020)\n",
    " \n",
    "svm_better1 <- train(status ~., data = phq9_data, method = \"svmRadial\",\n",
    "                 trControl= control_trn3,\n",
    "                 preProcess = c(\"center\", \"scale\"),\n",
    "                 tuneLength = 5)\n",
    "svm_better1"
   ]
  },
  {
   "cell_type": "markdown",
   "metadata": {},
   "source": [
    "Predictions"
   ]
  },
  {
   "cell_type": "code",
   "execution_count": 22,
   "metadata": {},
   "outputs": [
    {
     "data": {
      "text/plain": [
       "Confusion Matrix and Statistics\n",
       "\n",
       "                      Reference\n",
       "Prediction             Extremely Difficult Not Difficult at All\n",
       "  Extremely Difficult                  428                  145\n",
       "  Not Difficult at All                 262                 2104\n",
       "                                             \n",
       "               Accuracy : 0.8615             \n",
       "                 95% CI : (0.8485, 0.8738)   \n",
       "    No Information Rate : 0.7652             \n",
       "    P-Value [Acc > NIR] : < 2.2e-16          \n",
       "                                             \n",
       "                  Kappa : 0.5905             \n",
       " Mcnemar's Test P-Value : 8.929e-09          \n",
       "                                             \n",
       "            Sensitivity : 0.6203             \n",
       "            Specificity : 0.9355             \n",
       "         Pos Pred Value : 0.7469             \n",
       "         Neg Pred Value : 0.8893             \n",
       "             Prevalence : 0.2348             \n",
       "         Detection Rate : 0.1456             \n",
       "   Detection Prevalence : 0.1950             \n",
       "      Balanced Accuracy : 0.7779             \n",
       "                                             \n",
       "       'Positive' Class : Extremely Difficult\n",
       "                                             "
      ]
     },
     "metadata": {},
     "output_type": "display_data"
    }
   ],
   "source": [
    "predictions = predict(svm_better1, newdata = testset)\n",
    "\n",
    "cm = confusionMatrix(predictions, testset$status)\n",
    "cm"
   ]
  },
  {
   "cell_type": "markdown",
   "metadata": {},
   "source": [
    "Also another way we could set the cost/ tunning parameters is by using the grid. that is"
   ]
  },
  {
   "cell_type": "code",
   "execution_count": null,
   "metadata": {},
   "outputs": [],
   "source": [
    "control_trn4 <- trainControl(method = \"repeatedcv\", number = 4, repeats = 2)\n",
    "\n",
    "grid_radial <- expand.grid(sigma = c(0.01, 0.05, 0.08, 0.1),\n",
    " C = c(0.1, 0.5, 1.0, 1.5))\n",
    "set.seed(2021)\n",
    " \n",
    "svm_better2 <- train(status ~., data = phq9_data, method = \"svmRadial\",\n",
    "                 trControl= control_trn4,\n",
    "                 preProcess = c(\"center\", \"scale\"),\n",
    "                 tuneGrid = grid_radial,\n",
    "                 tuneLength = 5)\n",
    "svm_better2"
   ]
  },
  {
   "cell_type": "markdown",
   "metadata": {},
   "source": [
    "Predictions on the test set"
   ]
  },
  {
   "cell_type": "code",
   "execution_count": null,
   "metadata": {},
   "outputs": [],
   "source": [
    "predictions = predict(svm_better2, newdata = testset)\n",
    "\n",
    "cm = confusionMatrix(predictions, testset$status)\n",
    "cm"
   ]
  },
  {
   "cell_type": "markdown",
   "metadata": {},
   "source": [
    "#### Useful Resources to learn more\n",
    "\n",
    "Theory \n",
    "\n",
    "SVM by Chih-Jen Lin available at Data Science Summer school. its video quality is very poor but good material\n",
    "\n",
    "Introduction to Statistical Learning svm chapter\n",
    "\n",
    "Support Vector Machine succintly by Alexandre Kowalczyk freely available at www.syncfusion.com\n",
    "\n",
    "Practical \n",
    "\n",
    "Caret and e1071 Documentation"
   ]
  },
  {
   "cell_type": "code",
   "execution_count": null,
   "metadata": {},
   "outputs": [],
   "source": []
  }
 ],
 "metadata": {
  "kernelspec": {
   "display_name": "R",
   "language": "R",
   "name": "ir"
  },
  "language_info": {
   "codemirror_mode": "r",
   "file_extension": ".r",
   "mimetype": "text/x-r-source",
   "name": "R",
   "pygments_lexer": "r",
   "version": "3.4.4"
  }
 },
 "nbformat": 4,
 "nbformat_minor": 2
}
